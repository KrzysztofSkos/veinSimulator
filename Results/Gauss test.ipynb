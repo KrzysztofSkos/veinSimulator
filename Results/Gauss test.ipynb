{
 "cells": [
  {
   "cell_type": "code",
   "execution_count": 1,
   "id": "07dc46e8",
   "metadata": {},
   "outputs": [],
   "source": [
    "import numpy as np\n",
    "from math import sqrt\n",
    "import math\n",
    "import matplotlib.pyplot as plt"
   ]
  },
  {
   "cell_type": "code",
   "execution_count": 2,
   "id": "354f5bb2",
   "metadata": {},
   "outputs": [],
   "source": [
    "veinDiameter = 4  # mm, max 10\n",
    "veinRadius = 2\n",
    "veinLength = 6\n",
    "v = math.pi * veinRadius * veinRadius *6"
   ]
  },
  {
   "cell_type": "code",
   "execution_count": 3,
   "id": "edf9d52e",
   "metadata": {},
   "outputs": [],
   "source": [
    "#s = np.random.normal(mu, sigma, nt)\n",
    "#print(abs(mu - np.mean(s)))\n",
    "#print(sigma - np.std(s, ddof=1))\n",
    "\n",
    "#print(sum(s))\n",
    "#print(round(sum(s)/nt))\n",
    "\n",
    "#count, bins, ignored = plt.hist(s, 30, density=True)\n",
    "#plt.plot(bins, 1/(sigma * np.sqrt(2 * np.pi)) * np.exp( - (bins - mu)**2 / (2 * sigma**2) ),linewidth=2, color='r')\n",
    "#plt.show()\n"
   ]
  },
  {
   "cell_type": "code",
   "execution_count": 4,
   "id": "a6574d55",
   "metadata": {},
   "outputs": [],
   "source": [
    "sums = []\n",
    "\n",
    "for nt in range(100000, 1000000, 100):\n",
    "    mu = nt * (v / 5600000)\n",
    "    sigma2 = nt * (1 - v / 5600000)\n",
    "    sigma = sqrt(sigma2)\n",
    "    s = np.random.normal(mu, sigma, nt)\n",
    "    sums.append(round(sum(s)/nt))\n"
   ]
  },
  {
   "cell_type": "code",
   "execution_count": 5,
   "id": "ba683250",
   "metadata": {},
   "outputs": [
    {
     "data": {
      "text/plain": [
       "[<matplotlib.lines.Line2D at 0x24dfcbf6af0>]"
      ]
     },
     "execution_count": 5,
     "metadata": {},
     "output_type": "execute_result"
    },
    {
     "data": {
      "image/png": "[encoded data removed]",
      "text/plain": [
       "<Figure size 432x288 with 1 Axes>"
      ]
     },
     "metadata": {
      "needs_background": "light"
     },
     "output_type": "display_data"
    }
   ],
   "source": [
    "plt.plot(range(100000, 1000000, 100), sums)\n"
   ]
  },
  {
   "cell_type": "code",
   "execution_count": 6,
   "id": "b7c017ff",
   "metadata": {},
   "outputs": [],
   "source": [
    "sums = []\n",
    "\n",
    "for nt in range(100000, 1000000, 100):\n",
    "    mu = nt * (v / 5600000)\n",
    "    sigma2 = nt * (1 - v / 5600000)\n",
    "    sigma = sqrt(sigma2)\n",
    "    s = np.random.normal(mu, sigma, nt)\n",
    "    sums.append(round(sum(s)/1000000))"
   ]
  },
  {
   "cell_type": "code",
   "execution_count": 7,
   "id": "ad230437",
   "metadata": {},
   "outputs": [
    {
     "data": {
      "text/plain": [
       "[<matplotlib.lines.Line2D at 0x24dfde595b0>]"
      ]
     },
     "execution_count": 7,
     "metadata": {},
     "output_type": "execute_result"
    },
    {
     "data": {
      "image/png": "[encoded data removed]",
      "text/plain": [
       "<Figure size 432x288 with 1 Axes>"
      ]
     },
     "metadata": {
      "needs_background": "light"
     },
     "output_type": "display_data"
    }
   ],
   "source": [
    "plt.plot(range(100000, 1000000, 100), sums)"
   ]
  },
  {
   "cell_type": "code",
   "execution_count": null,
   "id": "cad98e17",
   "metadata": {},
   "outputs": [],
   "source": []
  }
 ],
 "metadata": {
  "kernelspec": {
   "display_name": "Python 3",
   "language": "python",
   "name": "python3"
  },
  "language_info": {
   "codemirror_mode": {
    "name": "ipython",
    "version": 3
   },
   "file_extension": ".py",
   "mimetype": "text/x-python",
   "name": "python",
   "nbconvert_exporter": "python",
   "pygments_lexer": "ipython3",
   "version": "3.9.0"
  }
 },
 "nbformat": 4,
 "nbformat_minor": 5
}
